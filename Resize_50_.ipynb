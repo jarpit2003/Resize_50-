{
  "nbformat": 4,
  "nbformat_minor": 0,
  "metadata": {
    "colab": {
      "provenance": [],
      "authorship_tag": "ABX9TyNVMupTwj3iVsEi+52K7RXz",
      "include_colab_link": true
    },
    "kernelspec": {
      "name": "python3",
      "display_name": "Python 3"
    },
    "language_info": {
      "name": "python"
    }
  },
  "cells": [
    {
      "cell_type": "markdown",
      "metadata": {
        "id": "view-in-github",
        "colab_type": "text"
      },
      "source": [
        "<a href=\"https://colab.research.google.com/github/jarpit2003/Resize_50-/blob/main/Resize_50_.ipynb\" target=\"_parent\"><img src=\"https://colab.research.google.com/assets/colab-badge.svg\" alt=\"Open In Colab\"/></a>"
      ]
    },
    {
      "cell_type": "code",
      "execution_count": 1,
      "metadata": {
        "colab": {
          "base_uri": "https://localhost:8080/"
        },
        "id": "XWBQAXsdoVvl",
        "outputId": "8dab30e9-d5e8-49b0-8ac0-715b1f59459d"
      },
      "outputs": [
        {
          "output_type": "stream",
          "name": "stdout",
          "text": [
            "Requirement already satisfied: pillow in /usr/local/lib/python3.10/dist-packages (9.4.0)\n"
          ]
        }
      ],
      "source": [
        "pip install pillow\n"
      ]
    },
    {
      "cell_type": "code",
      "source": [
        "from PIL import Image\n",
        "import os\n",
        "import math\n",
        "\n",
        "input_folder = 'path/to/your/input/folder'\n",
        "output_image_path = 'path/to/your/output/image.jpg'\n",
        "images_per_row = 10  # Number of images per row in the final collage\n",
        "resize_factor = 0.5  # Resize factor to reduce the image size by 50%\n",
        "\n",
        "# Load images, resize, and convert to grayscale\n",
        "images = []\n",
        "for filename in os.listdir(input_folder):\n",
        "    if filename.endswith('.jpg') or filename.endswith('.png'):  # Add other image formats if needed\n",
        "        img_path = os.path.join(input_folder, filename)\n",
        "        img = Image.open(img_path)\n",
        "        img = img.resize((int(img.width * resize_factor), int(img.height * resize_factor)))\n",
        "        img = img.convert('L')\n",
        "        images.append(img)\n",
        "\n",
        "# Calculate the size of the final image\n",
        "img_width, img_height = images[0].size\n",
        "num_images = len(images)\n",
        "num_rows = math.ceil(num_images / images_per_row)\n",
        "collage_width = images_per_row * img_width\n",
        "collage_height = num_rows * img_height\n",
        "\n",
        "# Create a new blank image for the collage\n",
        "collage = Image.new('L', (collage_width, collage_height))\n",
        "\n",
        "# Paste images into the collage\n",
        "for i, img in enumerate(images):\n",
        "    row = i // images_per_row\n",
        "    col = i % images_per_row\n",
        "    collage.paste(img, (col * img_width, row * img_height))\n",
        "\n",
        "# Save the collage\n",
        "collage.save(output_image_path)\n",
        "print(f\"Collage saved to {output_image_path}\")\n"
      ],
      "metadata": {
        "id": "Z-b0eLbTsuov"
      },
      "execution_count": 2,
      "outputs": []
    }
  ]
}